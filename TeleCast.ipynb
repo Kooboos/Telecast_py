{
 "cells": [
  {
   "cell_type": "code",
   "execution_count": 142,
   "metadata": {},
   "outputs": [],
   "source": [
    "from selenium import webdriver"
   ]
  },
  {
   "cell_type": "code",
   "execution_count": 143,
   "metadata": {},
   "outputs": [],
   "source": [
    "#imports\n",
    "from selenium.common.exceptions import NoSuchElementException\n",
    "from selenium.webdriver.support import expected_conditions as ec\n",
    "from collections import deque\n",
    "from selenium.webdriver.common.keys import Keys\n",
    "import time\n",
    "\n",
    "\n",
    "browser = webdriver.Chrome()\n",
    "browser.get('https://web.telegram.org/#/im')"
   ]
  },
  {
   "cell_type": "code",
   "execution_count": 145,
   "metadata": {},
   "outputs": [],
   "source": [
    "#global objects\n",
    "\n",
    "# Home Group\n",
    "HOME_GROUP = 'PAID GROUP'\n",
    "\n",
    "# GroupQueue\n",
    "groupQueue = deque([])\n",
    "\n",
    "\n",
    "#grabs all groupchats\n",
    "groupChats = browser.find_elements_by_class_name(\"im_dialog_wrap\")\n",
    "\n",
    "#Selected Top Group\n",
    "selectedGroup = groupChats[0]\n",
    "\n",
    "#Last Messagege Dictionary\n",
    "lastMessageDict = {}\n",
    "\n",
    "#Message Stack\n",
    "MESSAGE_STACK = []\n",
    "\n",
    "#Selected group title\n",
    "SELECTED_GROUP_TITLE = ''\n",
    "\n",
    "\n",
    "for groupChat in groupChats:\n",
    "    key_gc = groupChat.find_elements_by_css_selector(\"div.im_dialog_peer\")[0].text\n",
    "    lastMessageDict[key_gc] = ''"
   ]
  },
  {
   "cell_type": "code",
   "execution_count": 146,
   "metadata": {},
   "outputs": [
    {
     "name": "stdout",
     "output_type": "stream",
     "text": [
      "deque(['FGCU CRYPTO CRIPS', 'Telegram', 'Whale Group', ':palm_tree:Gulf Coast:palm_tree: Signals', 'Jason Cockinserter'])\n"
     ]
    }
   ],
   "source": [
    "#groupQueueBuilder\n",
    "def groupQueueBuilder():\n",
    "    groupChats = browser.find_elements_by_class_name(\"im_dialog_wrap\")\n",
    "    badges = []\n",
    "    titles = []\n",
    "\n",
    "    for groupChat in groupChats:\n",
    "        oneBadgeArray = groupChat.find_elements_by_css_selector(\"span.im_dialog_badge.badge\")\n",
    "        if(oneBadgeArray[0].text!=\"\"):\n",
    "            #get index and use this index in titlesArray\n",
    "            oneTitleArray = groupChat.find_elements_by_css_selector(\"div.im_dialog_peer\")\n",
    "            if(oneTitleArray[0].text not in groupQueue):\n",
    "                groupQueue.append(oneTitleArray[0].text)\n",
    "    print(groupQueue)\n",
    "groupQueueBuilder()"
   ]
  },
  {
   "cell_type": "code",
   "execution_count": 147,
   "metadata": {},
   "outputs": [
    {
     "name": "stdout",
     "output_type": "stream",
     "text": [
      "deque(['Telegram', 'Whale Group', ':palm_tree:Gulf Coast:palm_tree: Signals', 'Jason Cockinserter'])\n"
     ]
    }
   ],
   "source": [
    "#groupFinder - \n",
    "def groupFinder(name):\n",
    "    groupQueue.popleft()\n",
    "    chats = browser.find_elements_by_class_name(\"im_dialog_wrap\")\n",
    "    #print(chats)\n",
    "    for chat in chats:\n",
    "        titleArray = chat.find_elements_by_css_selector(\"div.im_dialog_peer\")\n",
    "        if(titleArray[0].text == name):\n",
    "            chat.click()\n",
    "            selectedGroup = chat\n",
    "            break;\n",
    "    \n",
    "groupFinder(groupQueue[0])\n",
    "print(groupQueue)"
   ]
  },
  {
   "cell_type": "code",
   "execution_count": 148,
   "metadata": {},
   "outputs": [
    {
     "name": "stdout",
     "output_type": "stream",
     "text": [
      "\n",
      "message Stack:\n",
      "['Ive heard of VEN.', 'well relatively high', 'it was rated highly in the weiss ratings thats why', 'Steem is blowing up', 'LTC usually follows BTC in terms of growth', 'Thoughts on LTC future? Thinking about buying some to hold for the future growth...if it ever happens lol', 'Looks like we might be starting to see a little stability and sideways motion', 'I saw some tweets saying 12-13$ after but idk how realistic that is', 'Anyone think anything will come out of Vens thing today at 2', 'Shit made me laugh', 'Is CMD a good buy now?', 'Have you heard about Ven?', 'Lol my dad randomly says to me, what’s XLM?', 'signal cV still strong i made a lot on it from pre sale but they have strong aspects!', 'Hey buy cV', '@stronghandz', 'https://www.reddit.com/r/CryptoCurrency/comments/7sl0fp/cnbc_thats_what_the_crypto_kids_called_getting/?st=JCTANK9I&sh=9088fe6b', '@JustinBattlett  Yea i got rid of the trojan smh', '@Rawbraw sounds like you got hit with the clipboard trojan..have you downloaded anything from websites or other people? Someone coj ld of easily masked it with a pdf word doc exe', 'First 4 digits/letters  and last 4 digits/letters check every time rule of thumb', 'Lesson is hold money in private wallets and double check addresses make sure they always match', 'But most likely all he has to do is find a site like paxful and just sell off his ether slowly', 'He is trying to move it to multiple wallets now and trying to hide it like that but im going to bust this guy if he is dumb', 'He got 100k from the scheme', 'Only 2 ether was mine but if you check that wallet address and follow to where it sent too', '100k????!', 'https://imgur.com/gallery/116C9', 'And this message has popped up on users trying to log into their binance account', 'I did a few exchange transfers in ether and binance was only one that got fucked']\n"
     ]
    }
   ],
   "source": [
    "#Create push method to click on 'home chat' and paste and send it there.\n",
    "# checks via dictionary which messages to push\n",
    "def createMessageStack():\n",
    "    MESSAGE_STACK.clear()\n",
    "    messages = browser.find_elements_by_class_name(\"im_message_text\")\n",
    "    textMessages = []\n",
    "    #change array of WebElements to array of strings. easier to work with, avoid errors\n",
    "    for webElement in messages:\n",
    "        textMessages.append(webElement.text)\n",
    "    #for some reason there were empty strings being grabbed by selenium. removing them here    \n",
    "    textMessages = list(filter(None, textMessages))\n",
    "    #reversing list to make FIFO\n",
    "    textMessages.reverse()\n",
    "    \n",
    "    SELECTED_GROUP_TITLE = selectedGroup.find_elements_by_css_selector(\"div.im_dialog_peer\")[0].text\n",
    "    print(lastMessageDict[SELECTED_GROUP_TITLE])\n",
    "    for message in textMessages:\n",
    "        if(message != lastMessageDict[SELECTED_GROUP_TITLE] and message != ''):\n",
    "            MESSAGE_STACK.append(message)\n",
    "        else:\n",
    "#             SHOULD RUN WHEN MESSAGES ARE PUSHED\n",
    "            \n",
    "            break\n",
    "    print('message Stack:')\n",
    "    print(MESSAGE_STACK)\n",
    "        \n",
    "\n",
    "createMessageStack()\n"
   ]
  },
  {
   "cell_type": "code",
   "execution_count": 152,
   "metadata": {
    "scrolled": true
   },
   "outputs": [
    {
     "name": "stdout",
     "output_type": "stream",
     "text": [
      "\n",
      "Will now be sending:\n",
      "['Ive heard of VEN.', 'well relatively high', 'it was rated highly in the weiss ratings thats why', 'Steem is blowing up', 'LTC usually follows BTC in terms of growth', 'Thoughts on LTC future? Thinking about buying some to hold for the future growth...if it ever happens lol', 'Looks like we might be starting to see a little stability and sideways motion', 'I saw some tweets saying 12-13$ after but idk how realistic that is', 'Anyone think anything will come out of Vens thing today at 2', 'Shit made me laugh', 'Is CMD a good buy now?', 'Have you heard about Ven?', 'Lol my dad randomly says to me, what’s XLM?', 'signal cV still strong i made a lot on it from pre sale but they have strong aspects!', 'Hey buy cV', '@stronghandz', 'https://www.reddit.com/r/CryptoCurrency/comments/7sl0fp/cnbc_thats_what_the_crypto_kids_called_getting/?st=JCTANK9I&sh=9088fe6b', '@JustinBattlett  Yea i got rid of the trojan smh', '@Rawbraw sounds like you got hit with the clipboard trojan..have you downloaded anything from websites or other people? Someone coj ld of easily masked it with a pdf word doc exe', 'First 4 digits/letters  and last 4 digits/letters check every time rule of thumb', 'Lesson is hold money in private wallets and double check addresses make sure they always match', 'But most likely all he has to do is find a site like paxful and just sell off his ether slowly', 'He is trying to move it to multiple wallets now and trying to hide it like that but im going to bust this guy if he is dumb', 'He got 100k from the scheme', 'Only 2 ether was mine but if you check that wallet address and follow to where it sent too', '100k????!', 'https://imgur.com/gallery/116C9', 'And this message has popped up on users trying to log into their binance account', 'I did a few exchange transfers in ether and binance was only one that got fucked']\n"
     ]
    },
    {
     "ename": "UnboundLocalError",
     "evalue": "local variable 'SELECTED_GROUP_TITLE' referenced before assignment",
     "output_type": "error",
     "traceback": [
      "\u001b[0;31m---------------------------------------------------------------------------\u001b[0m",
      "\u001b[0;31mUnboundLocalError\u001b[0m                         Traceback (most recent call last)",
      "\u001b[0;32m<ipython-input-152-c19f07d65fde>\u001b[0m in \u001b[0;36m<module>\u001b[0;34m()\u001b[0m\n\u001b[1;32m     23\u001b[0m \u001b[0;34m\u001b[0m\u001b[0m\n\u001b[1;32m     24\u001b[0m \u001b[0mprint\u001b[0m\u001b[0;34m(\u001b[0m\u001b[0mSELECTED_GROUP_TITLE\u001b[0m\u001b[0;34m)\u001b[0m\u001b[0;34m\u001b[0m\u001b[0m\n\u001b[0;32m---> 25\u001b[0;31m \u001b[0mbroadCast\u001b[0m\u001b[0;34m(\u001b[0m\u001b[0;34m)\u001b[0m\u001b[0;34m\u001b[0m\u001b[0m\n\u001b[0m",
      "\u001b[0;32m<ipython-input-152-c19f07d65fde>\u001b[0m in \u001b[0;36mbroadCast\u001b[0;34m()\u001b[0m\n\u001b[1;32m     17\u001b[0m         \u001b[0mtextBox\u001b[0m\u001b[0;34m.\u001b[0m\u001b[0msend_keys\u001b[0m\u001b[0;34m(\u001b[0m\u001b[0mKeys\u001b[0m\u001b[0;34m.\u001b[0m\u001b[0mRETURN\u001b[0m\u001b[0;34m)\u001b[0m\u001b[0;34m\u001b[0m\u001b[0m\n\u001b[1;32m     18\u001b[0m \u001b[0;34m\u001b[0m\u001b[0m\n\u001b[0;32m---> 19\u001b[0;31m     \u001b[0mlastMessageDict\u001b[0m\u001b[0;34m[\u001b[0m\u001b[0mSELECTED_GROUP_TITLE\u001b[0m\u001b[0;34m]\u001b[0m \u001b[0;34m=\u001b[0m \u001b[0mMESSAGE_STACK\u001b[0m\u001b[0;34m[\u001b[0m\u001b[0;34m-\u001b[0m\u001b[0;36m1\u001b[0m\u001b[0;34m]\u001b[0m\u001b[0;34m\u001b[0m\u001b[0m\n\u001b[0m\u001b[1;32m     20\u001b[0m     \u001b[0;31m#clean up after sending messages.\u001b[0m\u001b[0;34m\u001b[0m\u001b[0;34m\u001b[0m\u001b[0m\n\u001b[1;32m     21\u001b[0m     \u001b[0mMESSAGE_STACK\u001b[0m\u001b[0;34m.\u001b[0m\u001b[0mclear\u001b[0m\u001b[0;34m(\u001b[0m\u001b[0;34m)\u001b[0m\u001b[0;34m\u001b[0m\u001b[0m\n",
      "\u001b[0;31mUnboundLocalError\u001b[0m: local variable 'SELECTED_GROUP_TITLE' referenced before assignment"
     ]
    }
   ],
   "source": [
    "# Broadcast Method\n",
    "def broadCast():\n",
    "    #select home chat\n",
    "    print('Will now be sending:')\n",
    "    print(MESSAGE_STACK)\n",
    "    chats = browser.find_elements_by_class_name(\"im_dialog_wrap\")\n",
    "    for chat in chats:\n",
    "        titleArray = chat.find_elements_by_css_selector(\"div.im_dialog_peer\")\n",
    "        if(titleArray[0].text == HOME_GROUP):\n",
    "            chat.click()\n",
    "            break;\n",
    "    \n",
    "    #once homechat is selected, send messages one by one.\n",
    "    textBox = browser.find_elements_by_class_name('composer_rich_textarea')[0]\n",
    "    for message in MESSAGE_STACK:        \n",
    "        textBox.send_keys(titleArray[0].text + \": \" + message)\n",
    "        textBox.send_keys(Keys.RETURN)\n",
    "    \n",
    "    lastMessageDict[SELECTED_GROUP_TITLE] = MESSAGE_STACK[-1]\n",
    "    #clean up after sending messages.\n",
    "    MESSAGE_STACK.clear()\n",
    "    SELECTED_GROUP_TITLE= ''\n",
    "\n",
    "print(SELECTED_GROUP_TITLE)   \n",
    "broadCast()"
   ]
  },
  {
   "cell_type": "code",
   "execution_count": 13,
   "metadata": {},
   "outputs": [
    {
     "name": "stdout",
     "output_type": "stream",
     "text": [
      "it is 0\n"
     ]
    }
   ],
   "source": [
    "#Bot Loop\n",
    "while(true):\n",
    "    if(len(list(groupQueue)) == 0):\n",
    "        #timeout for x second(s)\n",
    "        time.sleep(3)\n",
    "    else:\n",
    "        print('it is not 0')\n",
    "        \n",
    "            #get first in queue and cache / print all messages from it.\n",
    "            #For our purpose, batch work scheduler would be better. **prioritizes active groupchats**"
   ]
  },
  {
   "cell_type": "code",
   "execution_count": 14,
   "metadata": {},
   "outputs": [
    {
     "ename": "SyntaxError",
     "evalue": "invalid syntax (<ipython-input-14-a710443c59f5>, line 1)",
     "output_type": "error",
     "traceback": [
      "\u001b[0;36m  File \u001b[0;32m\"<ipython-input-14-a710443c59f5>\"\u001b[0;36m, line \u001b[0;32m1\u001b[0m\n\u001b[0;31m    def getMessagesFromGroup(groupName)\u001b[0m\n\u001b[0m                                       ^\u001b[0m\n\u001b[0;31mSyntaxError\u001b[0m\u001b[0;31m:\u001b[0m invalid syntax\n"
     ]
    }
   ],
   "source": [
    "def getMessagesFromGroup(groupName)"
   ]
  },
  {
   "cell_type": "code",
   "execution_count": null,
   "metadata": {
    "collapsed": true
   },
   "outputs": [],
   "source": []
  }
 ],
 "metadata": {
  "kernelspec": {
   "display_name": "Python 3",
   "language": "python",
   "name": "python3"
  },
  "language_info": {
   "codemirror_mode": {
    "name": "ipython",
    "version": 3
   },
   "file_extension": ".py",
   "mimetype": "text/x-python",
   "name": "python",
   "nbconvert_exporter": "python",
   "pygments_lexer": "ipython3",
   "version": "3.6.4"
  }
 },
 "nbformat": 4,
 "nbformat_minor": 2
}
