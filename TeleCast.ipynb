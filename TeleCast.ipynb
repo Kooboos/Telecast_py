{
 "cells": [
  {
   "cell_type": "code",
   "execution_count": 20,
   "metadata": {
    "collapsed": true
   },
   "outputs": [],
   "source": [
    "from selenium import webdriver"
   ]
  },
  {
   "cell_type": "code",
   "execution_count": 21,
   "metadata": {},
   "outputs": [],
   "source": [
    "#imports\n",
    "from selenium.common.exceptions import NoSuchElementException\n",
    "from selenium.webdriver.support import expected_conditions as ec\n",
    "from collections import deque\n",
    "from selenium.webdriver.common.keys import Keys\n",
    "import time\n",
    "\n",
    "\n",
    "browser = webdriver.Chrome()\n",
    "browser.get('https://web.telegram.org/#/im')"
   ]
  },
  {
   "cell_type": "code",
   "execution_count": 22,
   "metadata": {},
   "outputs": [
    {
     "ename": "IndexError",
     "evalue": "list index out of range",
     "output_type": "error",
     "traceback": [
      "\u001b[0;31m---------------------------------------------------------------------------\u001b[0m",
      "\u001b[0;31mIndexError\u001b[0m                                Traceback (most recent call last)",
      "\u001b[0;32m<ipython-input-22-5e7b67d0aedf>\u001b[0m in \u001b[0;36m<module>\u001b[0;34m()\u001b[0m\n\u001b[1;32m     16\u001b[0m \u001b[0;31m#Selected Top Group\u001b[0m\u001b[0;34m\u001b[0m\u001b[0;34m\u001b[0m\u001b[0m\n\u001b[1;32m     17\u001b[0m \u001b[0;32mglobal\u001b[0m \u001b[0mselectedGroup\u001b[0m\u001b[0;34m\u001b[0m\u001b[0m\n\u001b[0;32m---> 18\u001b[0;31m \u001b[0mselectedGroup\u001b[0m \u001b[0;34m=\u001b[0m \u001b[0mgroupChats\u001b[0m\u001b[0;34m[\u001b[0m\u001b[0;36m0\u001b[0m\u001b[0;34m]\u001b[0m\u001b[0;34m\u001b[0m\u001b[0m\n\u001b[0m\u001b[1;32m     19\u001b[0m \u001b[0;34m\u001b[0m\u001b[0m\n\u001b[1;32m     20\u001b[0m \u001b[0;31m#Last Messagege Dictionary\u001b[0m\u001b[0;34m\u001b[0m\u001b[0;34m\u001b[0m\u001b[0m\n",
      "\u001b[0;31mIndexError\u001b[0m: list index out of range"
     ]
    }
   ],
   "source": [
    "#global objects\n",
    "\n",
    "# Home Group\n",
    "global HOME_GROUP\n",
    "HOME_GROUP = 'PAID GROUP'\n",
    "\n",
    "# GroupQueue\n",
    "global groupQueue\n",
    "groupQueue = deque([])\n",
    "\n",
    "\n",
    "#grabs all groupchats\n",
    "global groupChats\n",
    "groupChats = browser.find_elements_by_class_name(\"im_dialog_wrap\")\n",
    "\n",
    "#Selected Top Group\n",
    "global selectedGroup\n",
    "selectedGroup = groupChats[0]\n",
    "\n",
    "#Last Messagege Dictionary\n",
    "global lastMessageDict\n",
    "lastMessageDict = {}\n",
    "\n",
    "#Message Stack\n",
    "global MESSAGE_STACK\n",
    "MESSAGE_STACK = []\n",
    "\n",
    "#Selected group title\n",
    "global SELECTED_GROUP_TITLE\n",
    "SELECTED_GROUP_TITLE = 'Whale Group'"
   ]
  },
  {
   "cell_type": "code",
   "execution_count": 11,
   "metadata": {},
   "outputs": [
    {
     "name": "stdout",
     "output_type": "stream",
     "text": [
      "{}\n"
     ]
    }
   ],
   "source": [
    "#Creates dictionairy of last messages in each group\n",
    "def initializeDict():\n",
    "#     for some reason error on first run after log in unless this line is her\n",
    "    groupChats[0].click\n",
    "    \n",
    "    for chat in groupChats:\n",
    "        chat.click()\n",
    "        messages = browser.find_elements_by_class_name(\"im_message_text\")\n",
    "        textMessages = []\n",
    "        #change array of WebElements to array of strings. easier to work with, avoid errors\n",
    "        for webElement in messages:\n",
    "            textMessages.append(webElement.text)\n",
    "        #for some reason there were empty strings being grabbed by selenium. removing them here    \n",
    "        textMessages = list(filter(None, textMessages))\n",
    "        key_gc = chat.find_elements_by_css_selector(\"div.im_dialog_peer\")[0].text\n",
    "        lastMessageDict[key_gc] = textMessages[-1]\n",
    "# TESTING\n",
    "print(lastMessageDict)"
   ]
  },
  {
   "cell_type": "code",
   "execution_count": 12,
   "metadata": {},
   "outputs": [],
   "source": [
    "#groupQueueBuilder\n",
    "def groupQueueBuilder():\n",
    "    for groupChat in groupChats:\n",
    "        oneBadgeArray = groupChat.find_elements_by_css_selector(\"span.im_dialog_badge.badge\")\n",
    "#         TO DO : make it not take messages from HOME GROUP\n",
    "        if(oneBadgeArray[0].text!=\"\"):\n",
    "            #get index and use this index in titlesArray\n",
    "            oneTitleArray = groupChat.find_elements_by_css_selector(\"div.im_dialog_peer\")\n",
    "            if(oneTitleArray[0].text not in groupQueue):\n",
    "                groupQueue.append(oneTitleArray[0].text)\n",
    "    print(groupQueue)"
   ]
  },
  {
   "cell_type": "code",
   "execution_count": 13,
   "metadata": {},
   "outputs": [
    {
     "name": "stdout",
     "output_type": "stream",
     "text": [
      "deque([])\n"
     ]
    }
   ],
   "source": [
    "#groupFinder - Takes in name of group finds it selects it\n",
    "def groupFinder(name):\n",
    "    groupQueue.popleft()\n",
    "    #print(chats)\n",
    "    for chat in groupChats:\n",
    "        titleArray = chat.find_elements_by_css_selector(\"div.im_dialog_peer\")\n",
    "        if(titleArray[0].text == name):\n",
    "            chat.click()\n",
    "            global SELECTED_GROUP_TITLE\n",
    "            SELECTED_GROUP_TITLE = titleArray[0].text\n",
    "            break;\n",
    "print(groupQueue)"
   ]
  },
  {
   "cell_type": "code",
   "execution_count": null,
   "metadata": {},
   "outputs": [],
   "source": [
    "#Create push method to click on 'home chat' and paste and send it there.\n",
    "# checks via dictionary which messages to push\n",
    "def createMessageStack():\n",
    "    MESSAGE_STACK.clear()\n",
    "    messages = browser.find_elements_by_class_name(\"im_message_text\")\n",
    "    textMessages = []\n",
    "    #change array of WebElements to array of strings. easier to work with, avoid errors\n",
    "    for webElement in messages:\n",
    "        textMessages.append(webElement.text)\n",
    "    #for some reason there were empty strings being grabbed by selenium. removing them here    \n",
    "    textMessages = list(filter(None, textMessages))\n",
    "    #reversing list to make FIFO\n",
    "    textMessages.reverse()\n",
    "    print(lastMessageDict[SELECTED_GROUP_TITLE])\n",
    "    for message in textMessages:\n",
    "        \n",
    "        if(message != lastMessageDict[SELECTED_GROUP_TITLE]):\n",
    "            MESSAGE_STACK.append(message)\n",
    "        else:\n",
    "#             SHOULD RUN WHEN MESSAGES ARE PUSHED\n",
    "            \n",
    "            break\n",
    "    print('message Stack:')\n",
    "    print(MESSAGE_STACK)"
   ]
  },
  {
   "cell_type": "code",
   "execution_count": 17,
   "metadata": {
    "scrolled": false
   },
   "outputs": [
    {
     "name": "stdout",
     "output_type": "stream",
     "text": [
      "jerry lin\n"
     ]
    }
   ],
   "source": [
    "# Broadcast Method\n",
    "def broadCast():\n",
    "    #select home chat\n",
    "    print('Will now be sending:')\n",
    "    print(MESSAGE_STACK)\n",
    "    for chat in groupChats:\n",
    "        titleArray = chat.find_elements_by_css_selector(\"div.im_dialog_peer\")\n",
    "        if(titleArray[0].text == HOME_GROUP):\n",
    "            chat.click()\n",
    "            break;\n",
    "    \n",
    "    #once homechat is selected, send messages one by one.\n",
    "    textBox = browser.find_elements_by_class_name('composer_rich_textarea')[0]\n",
    "    for message in MESSAGE_STACK:        \n",
    "        textBox.send_keys(titleArray[0].text + \": \" + message)\n",
    "        textBox.send_keys(Keys.RETURN)\n",
    "    if(len(MESSAGE_STACK) != 0):\n",
    "        lastMessageDict[SELECTED_GROUP_TITLE] = MESSAGE_STACK[-1]\n",
    "    #clean up after sending messages.\n",
    "    MESSAGE_STACK.clear()\n",
    "\n",
    "print(SELECTED_GROUP_TITLE) "
   ]
  },
  {
   "cell_type": "code",
   "execution_count": 19,
   "metadata": {},
   "outputs": [
    {
     "name": "stdout",
     "output_type": "stream",
     "text": [
      "deque([])\n",
      "deque([])\n",
      "deque([])\n",
      "deque([])\n",
      "deque([])\n",
      "deque([])\n",
      "deque([])\n",
      "deque([])\n",
      "deque([])\n",
      "deque([])\n",
      "deque([])\n",
      "deque([])\n",
      "deque([])\n"
     ]
    },
    {
     "ename": "KeyboardInterrupt",
     "evalue": "",
     "output_type": "error",
     "traceback": [
      "\u001b[0;31m---------------------------------------------------------------------------\u001b[0m",
      "\u001b[0;31mKeyboardInterrupt\u001b[0m                         Traceback (most recent call last)",
      "\u001b[0;32m<ipython-input-19-07842c6b434f>\u001b[0m in \u001b[0;36m<module>\u001b[0;34m()\u001b[0m\n\u001b[1;32m      8\u001b[0m         \u001b[0mtime\u001b[0m\u001b[0;34m.\u001b[0m\u001b[0msleep\u001b[0m\u001b[0;34m(\u001b[0m\u001b[0;36m3\u001b[0m\u001b[0;34m)\u001b[0m\u001b[0;34m\u001b[0m\u001b[0m\n\u001b[1;32m      9\u001b[0m         \u001b[0mgroupQueueBuilder\u001b[0m\u001b[0;34m(\u001b[0m\u001b[0;34m)\u001b[0m\u001b[0;34m\u001b[0m\u001b[0m\n\u001b[0;32m---> 10\u001b[0;31m         \u001b[0mtime\u001b[0m\u001b[0;34m.\u001b[0m\u001b[0msleep\u001b[0m\u001b[0;34m(\u001b[0m\u001b[0;36m3\u001b[0m\u001b[0;34m)\u001b[0m\u001b[0;34m\u001b[0m\u001b[0m\n\u001b[0m\u001b[1;32m     11\u001b[0m     \u001b[0;32melse\u001b[0m\u001b[0;34m:\u001b[0m\u001b[0;34m\u001b[0m\u001b[0m\n\u001b[1;32m     12\u001b[0m         \u001b[0mgroupFinder\u001b[0m\u001b[0;34m(\u001b[0m\u001b[0mgroupQueue\u001b[0m\u001b[0;34m[\u001b[0m\u001b[0;36m0\u001b[0m\u001b[0;34m]\u001b[0m\u001b[0;34m)\u001b[0m\u001b[0;34m\u001b[0m\u001b[0m\n",
      "\u001b[0;31mKeyboardInterrupt\u001b[0m: "
     ]
    }
   ],
   "source": [
    "#Bot Loop\n",
    "initializeDict()\n",
    "timeout = 150\n",
    "timeout_start = time.time()\n",
    "while time.time() < timeout_start + timeout:\n",
    "    if(len(list(groupQueue)) == 0):\n",
    "        #timeout for x second(s)\n",
    "        time.sleep(3)\n",
    "        groupQueueBuilder()\n",
    "        time.sleep(.5)\n",
    "    else:\n",
    "        groupFinder(groupQueue[0])\n",
    "        createMessageStack()\n",
    "        broadCast()\n",
    "        \n",
    "print('TEST COMPLEETE')\n",
    "        \n",
    "        \n",
    "            #get first in queue and cache / print all messages from it.\n",
    "            #For our purpose, batch work scheduler would be better. **prioritizes active groupchats**"
   ]
  },
  {
   "cell_type": "code",
   "execution_count": null,
   "metadata": {
    "collapsed": true
   },
   "outputs": [],
   "source": []
  }
 ],
 "metadata": {
  "kernelspec": {
   "display_name": "Python 3",
   "language": "python",
   "name": "python3"
  },
  "language_info": {
   "codemirror_mode": {
    "name": "ipython",
    "version": 3
   },
   "file_extension": ".py",
   "mimetype": "text/x-python",
   "name": "python",
   "nbconvert_exporter": "python",
   "pygments_lexer": "ipython3",
   "version": "3.6.3"
  }
 },
 "nbformat": 4,
 "nbformat_minor": 2
}
