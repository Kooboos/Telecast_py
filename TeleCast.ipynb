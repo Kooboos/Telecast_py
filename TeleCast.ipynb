{
 "cells": [
  {
   "cell_type": "code",
   "execution_count": 2,
   "metadata": {
    "collapsed": true
   },
   "outputs": [],
   "source": [
    "from selenium import webdriver"
   ]
  },
  {
   "cell_type": "code",
   "execution_count": 3,
   "metadata": {},
   "outputs": [],
   "source": [
    "#imports\n",
    "from selenium.common.exceptions import NoSuchElementException\n",
    "from selenium.webdriver.support import expected_conditions as ec\n",
    "from collections import deque\n",
    "from selenium.webdriver.common.keys import Keys\n",
    "import time\n",
    "\n",
    "\n",
    "browser = webdriver.Chrome()\n",
    "browser.get('https://web.telegram.org/#/im')"
   ]
  },
  {
   "cell_type": "code",
   "execution_count": 169,
   "metadata": {},
   "outputs": [],
   "source": [
    "#global objects\n",
    "\n",
    "# Home Group\n",
    "global HOME_GROUP\n",
    "HOME_GROUP = 'PAID GROUP'\n",
    "\n",
    "# GroupQueue\n",
    "global groupQueue\n",
    "groupQueue = deque([])\n",
    "\n",
    "\n",
    "#grabs all groupchats\n",
    "global groupChats\n",
    "groupChats = browser.find_elements_by_class_name(\"im_dialog_wrap\")\n",
    "\n",
    "#Selected Top Group\n",
    "global selectedGroup\n",
    "selectedGroup = groupChats[0]\n",
    "\n",
    "#Last Messagege Dictionary\n",
    "global lastMessageDict\n",
    "lastMessageDict = {}\n",
    "\n",
    "#Message Stack\n",
    "global MESSAGE_STACK\n",
    "MESSAGE_STACK = []\n",
    "\n",
    "#Selected group title\n",
    "global SELECTED_GROUP_TITLE\n",
    "SELECTED_GROUP_TITLE = ''"
   ]
  },
  {
   "cell_type": "code",
   "execution_count": 170,
   "metadata": {},
   "outputs": [
    {
     "name": "stdout",
     "output_type": "stream",
     "text": [
      "{'FGCU CRYPTO CRIPS': 'Futures expires friday', 'Jakub Nowak': 'Jakub Nowak: sry', 'Whale Group': 'Whale Group: test1', 'Telegram': 'OK'}\n"
     ]
    }
   ],
   "source": [
    "#Creates dictionairy of last messages in each group\n",
    "def initializeDict():\n",
    "    for chat in groupChats:\n",
    "        chat.click()\n",
    "        messages = browser.find_elements_by_class_name(\"im_message_text\")\n",
    "        textMessages = []\n",
    "        #change array of WebElements to array of strings. easier to work with, avoid errors\n",
    "        for webElement in messages:\n",
    "            textMessages.append(webElement.text)\n",
    "        #for some reason there were empty strings being grabbed by selenium. removing them here    \n",
    "        textMessages = list(filter(None, textMessages))\n",
    "        key_gc = chat.find_elements_by_css_selector(\"div.im_dialog_peer\")[0].text\n",
    "        lastMessageDict[key_gc] = textMessages[-1]\n",
    "# TESTING\n",
    "initializeDict()\n",
    "print(lastMessageDict)"
   ]
  },
  {
   "cell_type": "code",
   "execution_count": 182,
   "metadata": {},
   "outputs": [
    {
     "name": "stdout",
     "output_type": "stream",
     "text": [
      "deque([])\n"
     ]
    }
   ],
   "source": [
    "#groupQueueBuilder\n",
    "def groupQueueBuilder():\n",
    "    for groupChat in groupChats:\n",
    "        oneBadgeArray = groupChat.find_elements_by_css_selector(\"span.im_dialog_badge.badge\")\n",
    "#         TO DO : make it not take messages from HOME GROUP\n",
    "        if(oneBadgeArray[0].text!=\"\"):\n",
    "            #get index and use this index in titlesArray\n",
    "            oneTitleArray = groupChat.find_elements_by_css_selector(\"div.im_dialog_peer\")\n",
    "            if(oneTitleArray[0].text not in groupQueue):\n",
    "                groupQueue.append(oneTitleArray[0].text)\n",
    "    print(groupQueue)\n",
    "groupQueueBuilder()\n",
    "\n",
    "# TESTING\n",
    "groupQueue.append('Whale Group')"
   ]
  },
  {
   "cell_type": "code",
   "execution_count": 183,
   "metadata": {},
   "outputs": [
    {
     "name": "stdout",
     "output_type": "stream",
     "text": [
      "deque([])\n"
     ]
    }
   ],
   "source": [
    "#groupFinder - Takes in name of group finds it selects it\n",
    "def groupFinder(name):\n",
    "    groupQueue.popleft()\n",
    "    #print(chats)\n",
    "    for chat in groupChats:\n",
    "        titleArray = chat.find_elements_by_css_selector(\"div.im_dialog_peer\")\n",
    "        if(titleArray[0].text == name):\n",
    "            chat.click()\n",
    "            global SELECTED_GROUP_TITLE\n",
    "            SELECTED_GROUP_TITLE = titleArray[0].text\n",
    "            break;\n",
    "    \n",
    "groupFinder(groupQueue[0])\n",
    "print(groupQueue)"
   ]
  },
  {
   "cell_type": "code",
   "execution_count": 187,
   "metadata": {},
   "outputs": [
    {
     "name": "stdout",
     "output_type": "stream",
     "text": [
      "Whale Group: test1\n",
      "message Stack:\n",
      "['Jakub Nowak: sry', 'Jakub Nowak: :dancers:♂', 'Jakub Nowak: gay', 'Jakub Nowak: Man I fucking love coding', \"Jakub Nowak: When shit works it's just the best fucking feeling\", \"Jakub Nowak: Do me a favor. While I'm showering watch the 02 video from that video series\", \"Jakub Nowak: How to get text, I think it's titler\", 'Jakub Nowak: Titled', 'Jakub Nowak: He explains promises a bit', 'Jakub Nowak: kk', '//*[@id=\"ng-app\"]/body/div[1]/div[2]/div/div[2]/div[3]/div/div[2]/div[1]/div/div[1]/div[2]', '//*[@id=\"ng-app\"]/body/div[1]/div[2]/div/div[2]/div[3]/div/div[2]/div[1]/div/div[1]/div[2]/div[2]/div[1]/div[2]/div/div/div[2]/div/div[1]', '//*[@id=\"ng-app\"]/body/div[1]/div[2]/div/div[2]/div[3]/div/div[2]/div[1]/div/div[1]/div[2]/div[2]', '//*[@id=\"ng-app\"]/body/div[1]/div[2]/div/div[2]/div[3]/div/div[2]/div[1]/div/div[1]/div[2]', '//body/   div[1]/                   div[2]/        div/                        div[2]/                               div[3]/                div/                   div[2]/                                      div[1]/                     div/                div[1]/                          div[2]/           |||     div[2]/            div[1]/      div[2]/div/ div/                   div[2]/                    div/       div[1]', '//body > div.page_wrap > div.im_page_wrap.clearfix > div > div.im_history_col_wrap.noselect.im_history_loaded > div.im_history_selected_wrap > div > div.im_history_wrap.nano.active-scrollbar > div.im_history_scrollable_wrap.nano-content > div > div.im_history.im_history_selectable > div.im_history_messages > div:nth-child(3) > div:nth-child(2) > div > div > div > div.im_message_body.im_message_body_media > div > div.im_message_text', '})', '})', '])', '})', \"console.log('this is one message:', text);\", 'oneElement.getText().then((text)=>{', 'elements.map((oneElement)=>[', 'driver.findElements(By.xpath(\\'//*[@id=\"ng-app\"]/body/div[1]/div[2]/div/div[2]/div[3]/div/div[2]/div[1]/div/div[1]/div[2]/div[2]\\')).then((elements)=>{', 'driver.sleep(15000);', '//Check is this works', '// })', \"//     console.log('chats:-------\\\\n', chats);\", '// getGroupChats.then(chats=>{', '// const getGroupChats = driver.findElements(By.className(\"im_dialog_wrap\"));', '// let groupchats = [];', \"console.log('found Element!');\", 'query.then(()=> {', 'var query = driver.wait(until.elementLocated(By.css(\"body > div.page_wrap > div.im_page_wrap.clearfix.im_page_peer_not_selected > div > div.im_history_col_wrap.noselect > div.im_history_not_selected_wrap > div\")));', '//Element which prompts to select groupchat to start chatting in.', \"driver.get('https://web.telegram.org/#/login')\", \"var driver = new webdriver.Builder().forBrowser('chrome').build();\", 'until = webdriver.until;', 'By  = webdriver.By,', \"var webdriver = require('selenium-webdriver'),\", '//     driver.findElement(By.xpath(\\'//*[@id=\"ng-app\"]/body/div[1]/div/div[2]/div[2]/form/div[2]/div[2]/input\\')).sendKeys(\\'9175772837\\');', '//     driver.findElement(By.xpath(\\'//*[@id=\"ng-app\"]/body/div[1]/div/div[2]/div[2]/form/div[2]/div[2]/input\\')).click;', \"//     driver.wait(until.elementIsVisible(By.css('body > div.page_wrap > div > div.login_page > div.login_form_wrap > form > div.login_phone_groups_wrap.clearfix > div.md-input-group.login_phone_num_input_group.md-input-animated > input')));\", \"//     driver.get('https://web.telegram.org/#/login');\", \"//     var driver = new webdriver.Builder().forBrowser('chrome').build();\", '//     until = webdriver.until;', '//     By  = webdriver.By,', \"Jakub Nowak: // var webdriver = require('selenium-webdriver'),\", 'Result: {\"_\":\"rpc_error\",\"error_code\":420,\"error_message\":\"FLOOD_WAIT_74343\"}', 'Jakub Nowak: Method: auth.sendCode']\n"
     ]
    }
   ],
   "source": [
    "#Create push method to click on 'home chat' and paste and send it there.\n",
    "# checks via dictionary which messages to push\n",
    "def createMessageStack():\n",
    "    MESSAGE_STACK.clear()\n",
    "    messages = browser.find_elements_by_class_name(\"im_message_text\")\n",
    "    textMessages = []\n",
    "    #change array of WebElements to array of strings. easier to work with, avoid errors\n",
    "    for webElement in messages:\n",
    "        textMessages.append(webElement.text)\n",
    "    #for some reason there were empty strings being grabbed by selenium. removing them here    \n",
    "    textMessages = list(filter(None, textMessages))\n",
    "    #reversing list to make FIFO\n",
    "    textMessages.reverse()\n",
    "    print(lastMessageDict[SELECTED_GROUP_TITLE])\n",
    "    for message in textMessages:\n",
    "        \n",
    "        if(message != lastMessageDict[SELECTED_GROUP_TITLE]):\n",
    "            MESSAGE_STACK.append(message)\n",
    "        else:\n",
    "#             SHOULD RUN WHEN MESSAGES ARE PUSHED\n",
    "            \n",
    "            break\n",
    "    print('message Stack:')\n",
    "    print(MESSAGE_STACK)\n",
    "        \n",
    "\n",
    "createMessageStack()\n"
   ]
  },
  {
   "cell_type": "code",
   "execution_count": 188,
   "metadata": {
    "scrolled": true
   },
   "outputs": [
    {
     "name": "stdout",
     "output_type": "stream",
     "text": [
      "Whale Group\n",
      "Will now be sending:\n",
      "['Jakub Nowak: sry', 'Jakub Nowak: :dancers:♂', 'Jakub Nowak: gay', 'Jakub Nowak: Man I fucking love coding', \"Jakub Nowak: When shit works it's just the best fucking feeling\", \"Jakub Nowak: Do me a favor. While I'm showering watch the 02 video from that video series\", \"Jakub Nowak: How to get text, I think it's titler\", 'Jakub Nowak: Titled', 'Jakub Nowak: He explains promises a bit', 'Jakub Nowak: kk', '//*[@id=\"ng-app\"]/body/div[1]/div[2]/div/div[2]/div[3]/div/div[2]/div[1]/div/div[1]/div[2]', '//*[@id=\"ng-app\"]/body/div[1]/div[2]/div/div[2]/div[3]/div/div[2]/div[1]/div/div[1]/div[2]/div[2]/div[1]/div[2]/div/div/div[2]/div/div[1]', '//*[@id=\"ng-app\"]/body/div[1]/div[2]/div/div[2]/div[3]/div/div[2]/div[1]/div/div[1]/div[2]/div[2]', '//*[@id=\"ng-app\"]/body/div[1]/div[2]/div/div[2]/div[3]/div/div[2]/div[1]/div/div[1]/div[2]', '//body/   div[1]/                   div[2]/        div/                        div[2]/                               div[3]/                div/                   div[2]/                                      div[1]/                     div/                div[1]/                          div[2]/           |||     div[2]/            div[1]/      div[2]/div/ div/                   div[2]/                    div/       div[1]', '//body > div.page_wrap > div.im_page_wrap.clearfix > div > div.im_history_col_wrap.noselect.im_history_loaded > div.im_history_selected_wrap > div > div.im_history_wrap.nano.active-scrollbar > div.im_history_scrollable_wrap.nano-content > div > div.im_history.im_history_selectable > div.im_history_messages > div:nth-child(3) > div:nth-child(2) > div > div > div > div.im_message_body.im_message_body_media > div > div.im_message_text', '})', '})', '])', '})', \"console.log('this is one message:', text);\", 'oneElement.getText().then((text)=>{', 'elements.map((oneElement)=>[', 'driver.findElements(By.xpath(\\'//*[@id=\"ng-app\"]/body/div[1]/div[2]/div/div[2]/div[3]/div/div[2]/div[1]/div/div[1]/div[2]/div[2]\\')).then((elements)=>{', 'driver.sleep(15000);', '//Check is this works', '// })', \"//     console.log('chats:-------\\\\n', chats);\", '// getGroupChats.then(chats=>{', '// const getGroupChats = driver.findElements(By.className(\"im_dialog_wrap\"));', '// let groupchats = [];', \"console.log('found Element!');\", 'query.then(()=> {', 'var query = driver.wait(until.elementLocated(By.css(\"body > div.page_wrap > div.im_page_wrap.clearfix.im_page_peer_not_selected > div > div.im_history_col_wrap.noselect > div.im_history_not_selected_wrap > div\")));', '//Element which prompts to select groupchat to start chatting in.', \"driver.get('https://web.telegram.org/#/login')\", \"var driver = new webdriver.Builder().forBrowser('chrome').build();\", 'until = webdriver.until;', 'By  = webdriver.By,', \"var webdriver = require('selenium-webdriver'),\", '//     driver.findElement(By.xpath(\\'//*[@id=\"ng-app\"]/body/div[1]/div/div[2]/div[2]/form/div[2]/div[2]/input\\')).sendKeys(\\'9175772837\\');', '//     driver.findElement(By.xpath(\\'//*[@id=\"ng-app\"]/body/div[1]/div/div[2]/div[2]/form/div[2]/div[2]/input\\')).click;', \"//     driver.wait(until.elementIsVisible(By.css('body > div.page_wrap > div > div.login_page > div.login_form_wrap > form > div.login_phone_groups_wrap.clearfix > div.md-input-group.login_phone_num_input_group.md-input-animated > input')));\", \"//     driver.get('https://web.telegram.org/#/login');\", \"//     var driver = new webdriver.Builder().forBrowser('chrome').build();\", '//     until = webdriver.until;', '//     By  = webdriver.By,', \"Jakub Nowak: // var webdriver = require('selenium-webdriver'),\", 'Result: {\"_\":\"rpc_error\",\"error_code\":420,\"error_message\":\"FLOOD_WAIT_74343\"}', 'Jakub Nowak: Method: auth.sendCode']\n"
     ]
    }
   ],
   "source": [
    "# Broadcast Method\n",
    "def broadCast():\n",
    "    #select home chat\n",
    "    print('Will now be sending:')\n",
    "    print(MESSAGE_STACK)\n",
    "    for chat in groupChats:\n",
    "        titleArray = chat.find_elements_by_css_selector(\"div.im_dialog_peer\")\n",
    "        if(titleArray[0].text == HOME_GROUP):\n",
    "            chat.click()\n",
    "            break;\n",
    "    \n",
    "    #once homechat is selected, send messages one by one.\n",
    "    textBox = browser.find_elements_by_class_name('composer_rich_textarea')[0]\n",
    "    for message in MESSAGE_STACK:        \n",
    "        textBox.send_keys(titleArray[0].text + \": \" + message)\n",
    "        textBox.send_keys(Keys.RETURN)\n",
    "    lastMessageDict[SELECTED_GROUP_TITLE] = MESSAGE_STACK[-1]\n",
    "    #clean up after sending messages.\n",
    "    MESSAGE_STACK.clear()\n",
    "\n",
    "print(SELECTED_GROUP_TITLE)   \n",
    "broadCast()"
   ]
  },
  {
   "cell_type": "code",
   "execution_count": 13,
   "metadata": {},
   "outputs": [
    {
     "name": "stdout",
     "output_type": "stream",
     "text": [
      "it is 0\n"
     ]
    }
   ],
   "source": [
    "#Bot Loop\n",
    "initializeDict()\n",
    "while(true):\n",
    "    if(len(list(groupQueue)) == 0):\n",
    "        #timeout for x second(s)\n",
    "        time.sleep(3)\n",
    "    else:\n",
    "        print('it is not 0')\n",
    "        \n",
    "            #get first in queue and cache / print all messages from it.\n",
    "            #For our purpose, batch work scheduler would be better. **prioritizes active groupchats**"
   ]
  },
  {
   "cell_type": "code",
   "execution_count": null,
   "metadata": {
    "collapsed": true
   },
   "outputs": [],
   "source": []
  }
 ],
 "metadata": {
  "kernelspec": {
   "display_name": "Python 3",
   "language": "python",
   "name": "python3"
  },
  "language_info": {
   "codemirror_mode": {
    "name": "ipython",
    "version": 3
   },
   "file_extension": ".py",
   "mimetype": "text/x-python",
   "name": "python",
   "nbconvert_exporter": "python",
   "pygments_lexer": "ipython3",
   "version": "3.6.3"
  }
 },
 "nbformat": 4,
 "nbformat_minor": 2
}
